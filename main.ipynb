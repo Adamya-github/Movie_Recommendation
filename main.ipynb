{
 "cells": [
  {
   "cell_type": "code",
   "execution_count": null,
   "metadata": {},
   "outputs": [],
   "source": [
    "import pandas as pd\n",
    "from sklearn.feature_extraction.text import CountVectorizer\n",
    "from sklearn.metrics.pairwise import cosine_similarity\n",
    "import joblib\n",
    "\n",
    "# Load dataset\n",
    "df = pd.read_csv('movielens_100k.csv')\n",
    "\n",
    "# Fill missing values\n",
    "df = df.fillna('')\n",
    "\n",
    "# Combine relevant features\n",
    "df['combined_features'] = df['directors'] + ' ' + df['actors'] + ' ' + df['genres']\n",
    "\n",
    "# Create the count matrix\n",
    "cv = CountVectorizer()\n",
    "count_matrix = cv.fit_transform(df['combined_features'])\n",
    "\n",
    "# Calculate cosine similarity\n",
    "cosine_sim = cosine_similarity(count_matrix)\n",
    "\n",
    "# Save the model and cosine similarity matrix\n",
    "joblib.dump(df, 'movies_df.pkl')\n",
    "joblib.dump(cosine_sim, 'cosine_sim.pkl')\n"
   ]
  }
 ],
 "metadata": {
  "language_info": {
   "name": "python"
  }
 },
 "nbformat": 4,
 "nbformat_minor": 2
}
