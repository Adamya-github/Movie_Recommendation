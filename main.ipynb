import pandas as pd
from sklearn.feature_extraction.text import CountVectorizer
from sklearn.metrics.pairwise import cosine_similarity
import joblib

# Load dataset
df = pd.read_csv('movielens_100k.csv')

# Fill missing values
df = df.fillna('')

# Combine relevant features
df['combined_features'] = df['directors'] + ' ' + df['actors'] + ' ' + df['genres']

# Create the count matrix
cv = CountVectorizer()
count_matrix = cv.fit_transform(df['combined_features'])

# Calculate cosine similarity
cosine_sim = cosine_similarity(count_matrix)

# Save the model and cosine similarity matrix
joblib.dump(df, 'movies_df.pkl')
joblib.dump(cosine_sim, 'cosine_sim.pkl')
